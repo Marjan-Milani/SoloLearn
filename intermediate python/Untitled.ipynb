{
 "cells": [
  {
   "cell_type": "markdown",
   "id": "72a8f14b",
   "metadata": {},
   "source": [
    "<B> national economic freedom </B>"
   ]
  },
  {
   "cell_type": "code",
   "execution_count": 10,
   "id": "9ff5617b",
   "metadata": {},
   "outputs": [
    {
     "name": "stdout",
     "output_type": "stream",
     "text": [
      "Iran\n",
      "Not Found\n"
     ]
    }
   ],
   "source": [
    "data = {\n",
    "    'Singapore': 1,\n",
    "    'Ireland': 6,\n",
    "    'United Kingdom': 7,\n",
    "    'Germany': 27,\n",
    "    'Armenia': 34,\n",
    "    'United States': 17,\n",
    "    'Canada': 9,\n",
    "    'Italy': 74\n",
    "}\n",
    "x = input()\n",
    "#if x in data:\n",
    "print(data.get(x,\"Not Found\"))\n",
    "#else:\n",
    "    #print(\"Not Found\")"
   ]
  },
  {
   "cell_type": "markdown",
   "id": "66b2abef",
   "metadata": {},
   "source": [
    "<B> contacts search <B>"
   ]
  },
  {
   "cell_type": "code",
   "execution_count": 11,
   "id": "2d641364",
   "metadata": {},
   "outputs": [
    {
     "name": "stdout",
     "output_type": "stream",
     "text": [
      "Bob\n",
      "Bob is 18\n"
     ]
    }
   ],
   "source": [
    "contacts = [\n",
    "    ('James', 42),\n",
    "    ('Amy', 24),\n",
    "    ('John', 31),\n",
    "    ('Amanda', 63),\n",
    "    ('Bob', 18)\n",
    "]\n",
    "names = input()\n",
    "for x in contacts:\n",
    "    if names in x:\n",
    "        print(names,\"is\",str(x[1]))\n",
    "        break\n",
    "else:\n",
    "    print(\"Not Found\")"
   ]
  },
  {
   "cell_type": "markdown",
   "id": "c5abced2",
   "metadata": {},
   "source": [
    "<B> Tuple Unpacking , cal() <B>"
   ]
  },
  {
   "cell_type": "code",
   "execution_count": null,
   "id": "49d0de5c",
   "metadata": {},
   "outputs": [],
   "source": [
    "def calc(x):\n",
    "    #your code goes here\n",
    "    return (x*4 , x**2)\n",
    "\n",
    "side = int(input())\n",
    "p, a = calc(side)\n",
    "\n",
    "print(\"Perimeter: \" + str(p))\n",
    "print(\"Area: \" + str(a))"
   ]
  },
  {
   "cell_type": "markdown",
   "id": "1f9ee922",
   "metadata": {},
   "source": [
    "<b>    sets   </b>"
   ]
  },
  {
   "cell_type": "code",
   "execution_count": 1,
   "id": "71a99ba9",
   "metadata": {},
   "outputs": [
    {
     "name": "stdout",
     "output_type": "stream",
     "text": [
      "HTML\n"
     ]
    }
   ],
   "source": [
    "skills = {'Python', 'HTML', 'SQL', 'C++', 'Java', 'Scala'}\n",
    "job_skills = {'HTML', 'CSS', 'JS', 'C#', 'NodeJS'}\n",
    "\n",
    "print (list( skills & job_skills) [0] )"
   ]
  },
  {
   "cell_type": "markdown",
   "id": "149407ca",
   "metadata": {},
   "source": [
    "<b> vowels </b>"
   ]
  },
  {
   "cell_type": "code",
   "execution_count": 14,
   "id": "5e9c61af",
   "metadata": {},
   "outputs": [
    {
     "name": "stdout",
     "output_type": "stream",
     "text": [
      "marjan\n",
      "['m', 'r', 'j', 'n']\n"
     ]
    }
   ],
   "source": [
    "word = input()\n",
    "vowels = { \"a\" , \"e\" , \"o\" , \"u\" , \"i\"}\n",
    "a=[i for i in word if i not in vowels]\n",
    "print(a)"
   ]
  },
  {
   "cell_type": "code",
   "execution_count": 17,
   "id": "a2a4e4da",
   "metadata": {},
   "outputs": [
    {
     "name": "stdout",
     "output_type": "stream",
     "text": [
      "(55, 44) 42\n",
      "44\n"
     ]
    }
   ],
   "source": [
    "nums = (55, 44, 33, 22)\n",
    "print(nums[:2],abs(-42))\n",
    "print(max(min(nums[:2]), abs(-42)))"
   ]
  },
  {
   "cell_type": "markdown",
   "id": "939897e4",
   "metadata": {},
   "source": [
    "<b> Letter Counter </b>"
   ]
  },
  {
   "cell_type": "code",
   "execution_count": null,
   "id": "00ad9f48",
   "metadata": {},
   "outputs": [],
   "source": [
    "text = input()\n",
    "dict = {}\n",
    "#your code goes here\n",
    "for i in text:\n",
    "    if i not in dict:\n",
    "        dict[i]=1\n",
    "        \n",
    "    else:\n",
    "        dict[i]+=1 \n",
    "print(dict)"
   ]
  },
  {
   "cell_type": "markdown",
   "id": "0a4df9b8",
   "metadata": {},
   "source": [
    "<b> Lambda challenge </b>\n"
   ]
  },
  {
   "cell_type": "code",
   "execution_count": 2,
   "id": "c2ea274d",
   "metadata": {},
   "outputs": [
    {
     "name": "stdout",
     "output_type": "stream",
     "text": [
      "100\n",
      "20\n",
      "20.0\n"
     ]
    }
   ],
   "source": [
    "price = int(input())\n",
    "perc = int(input())\n",
    "\n",
    "res = (lambda x,y:x*y/100)(price, perc)\n",
    "\n",
    "print(res)\n"
   ]
  },
  {
   "cell_type": "code",
   "execution_count": 6,
   "id": "57c5fcf9",
   "metadata": {},
   "outputs": [
    {
     "name": "stdout",
     "output_type": "stream",
     "text": [
      "9\n"
     ]
    }
   ],
   "source": [
    "add_five = lambda number: number + 5\n",
    "print(add_five(number=4))"
   ]
  },
  {
   "cell_type": "markdown",
   "id": "42c4a698",
   "metadata": {},
   "source": [
    "<b> map challenge </b>"
   ]
  },
  {
   "cell_type": "code",
   "execution_count": 9,
   "id": "82c26f62",
   "metadata": {},
   "outputs": [
    {
     "name": "stdout",
     "output_type": "stream",
     "text": [
      "15002\n",
      "[17002, 16802, 18102, 19402, 16502]\n"
     ]
    }
   ],
   "source": [
    "salaries = [2000, 1800, 3100, 4400, 1500]\n",
    "bonus = int(input())\n",
    "salaries = list(map(lambda x: bonus+x , salaries))\n",
    "print(salaries)"
   ]
  },
  {
   "cell_type": "code",
   "execution_count": null,
   "id": "cc36c9c0",
   "metadata": {},
   "outputs": [],
   "source": []
  }
 ],
 "metadata": {
  "kernelspec": {
   "display_name": "Python 3",
   "language": "python",
   "name": "python3"
  },
  "language_info": {
   "codemirror_mode": {
    "name": "ipython",
    "version": 3
   },
   "file_extension": ".py",
   "mimetype": "text/x-python",
   "name": "python",
   "nbconvert_exporter": "python",
   "pygments_lexer": "ipython3",
   "version": "3.9.5"
  }
 },
 "nbformat": 4,
 "nbformat_minor": 5
}
