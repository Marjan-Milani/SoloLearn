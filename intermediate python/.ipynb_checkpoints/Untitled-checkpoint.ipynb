{
 "cells": [
  {
   "cell_type": "markdown",
   "id": "72a8f14b",
   "metadata": {},
   "source": [
    "<B> national economic freedom </B>"
   ]
  },
  {
   "cell_type": "code",
   "execution_count": 10,
   "id": "9ff5617b",
   "metadata": {},
   "outputs": [
    {
     "name": "stdout",
     "output_type": "stream",
     "text": [
      "Iran\n",
      "Not Found\n"
     ]
    }
   ],
   "source": [
    "data = {\n",
    "    'Singapore': 1,\n",
    "    'Ireland': 6,\n",
    "    'United Kingdom': 7,\n",
    "    'Germany': 27,\n",
    "    'Armenia': 34,\n",
    "    'United States': 17,\n",
    "    'Canada': 9,\n",
    "    'Italy': 74\n",
    "}\n",
    "x = input()\n",
    "#if x in data:\n",
    "print(data.get(x,\"Not Found\"))\n",
    "#else:\n",
    "    #print(\"Not Found\")"
   ]
  },
  {
   "cell_type": "markdown",
   "id": "66b2abef",
   "metadata": {},
   "source": [
    "<B> contacts search <B>"
   ]
  },
  {
   "cell_type": "code",
   "execution_count": 11,
   "id": "2d641364",
   "metadata": {},
   "outputs": [
    {
     "name": "stdout",
     "output_type": "stream",
     "text": [
      "Bob\n",
      "Bob is 18\n"
     ]
    }
   ],
   "source": [
    "contacts = [\n",
    "    ('James', 42),\n",
    "    ('Amy', 24),\n",
    "    ('John', 31),\n",
    "    ('Amanda', 63),\n",
    "    ('Bob', 18)\n",
    "]\n",
    "names = input()\n",
    "for x in contacts:\n",
    "    if names in x:\n",
    "        print(names,\"is\",str(x[1]))\n",
    "        break\n",
    "else:\n",
    "    print(\"Not Found\")"
   ]
  },
  {
   "cell_type": "markdown",
   "id": "c5abced2",
   "metadata": {},
   "source": [
    "<B> Tuple Unpacking , cal() <B>"
   ]
  },
  {
   "cell_type": "code",
   "execution_count": null,
   "id": "49d0de5c",
   "metadata": {},
   "outputs": [],
   "source": [
    "def calc(x):\n",
    "    #your code goes here\n",
    "    return (x*4 , x**2)\n",
    "\n",
    "side = int(input())\n",
    "p, a = calc(side)\n",
    "\n",
    "print(\"Perimeter: \" + str(p))\n",
    "print(\"Area: \" + str(a))"
   ]
  },
  {
   "cell_type": "markdown",
   "id": "f09b6f7a",
   "metadata": {},
   "source": [
    "<b>    sets   </b>"
   ]
  },
  {
   "cell_type": "code",
   "execution_count": 1,
   "id": "a2070bb2",
   "metadata": {},
   "outputs": [
    {
     "name": "stdout",
     "output_type": "stream",
     "text": [
      "HTML\n"
     ]
    }
   ],
   "source": [
    "skills = {'Python', 'HTML', 'SQL', 'C++', 'Java', 'Scala'}\n",
    "job_skills = {'HTML', 'CSS', 'JS', 'C#', 'NodeJS'}\n",
    "\n",
    "print (list( skills & job_skills) [0] )"
   ]
  },
  {
   "cell_type": "code",
   "execution_count": null,
   "id": "dc35243f",
   "metadata": {},
   "outputs": [],
   "source": []
  }
 ],
 "metadata": {
  "kernelspec": {
   "display_name": "Python 3",
   "language": "python",
   "name": "python3"
  },
  "language_info": {
   "codemirror_mode": {
    "name": "ipython",
    "version": 3
   },
   "file_extension": ".py",
   "mimetype": "text/x-python",
   "name": "python",
   "nbconvert_exporter": "python",
   "pygments_lexer": "ipython3",
   "version": "3.9.5"
  }
 },
 "nbformat": 4,
 "nbformat_minor": 5
}
