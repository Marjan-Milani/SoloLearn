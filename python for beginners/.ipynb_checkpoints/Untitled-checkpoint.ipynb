{
 "cells": [
  {
   "cell_type": "markdown",
   "id": "4f180b54",
   "metadata": {},
   "source": [
    "<B> 1.1- Simple calculation </B>"
   ]
  },
  {
   "cell_type": "code",
   "execution_count": null,
   "id": "2a22df91",
   "metadata": {},
   "outputs": [],
   "source": [
    "win = 18 \n",
    "draw = 7 \n",
    "\n",
    "wp = 3 \n",
    "dp = 1 \n",
    "\n",
    "print((win * wp)+(draw * dp))"
   ]
  },
  {
   "cell_type": "markdown",
   "id": "f308575c",
   "metadata": {},
   "source": [
    "<B> 1.6- Flight Time </B>"
   ]
  },
  {
   "cell_type": "code",
   "execution_count": null,
   "id": "937f077f",
   "metadata": {},
   "outputs": [],
   "source": [
    "x=7425  \n",
    "y=550\n",
    "h=(x/y)\n",
    "print (float(h))"
   ]
  },
  {
   "cell_type": "markdown",
   "id": "c4b216d9",
   "metadata": {},
   "source": [
    "<B> 39.2- area of rectangle </B>"
   ]
  },
  {
   "cell_type": "code",
   "execution_count": null,
   "id": "1879df41",
   "metadata": {},
   "outputs": [],
   "source": [
    "def area(x, y):\n",
    "   #your code goes here\n",
    "   return x *y\n",
    "\n",
    "w = int(input())\n",
    "h = int(input())\n",
    "res = area(w,h)\n",
    "\n",
    "#call the function\n",
    "print(res)"
   ]
  },
  {
   "cell_type": "markdown",
   "id": "4e75b38b",
   "metadata": {},
   "source": [
    "<B> 38.2- arguments </B>"
   ]
  },
  {
   "cell_type": "code",
   "execution_count": null,
   "id": "ee53f377",
   "metadata": {},
   "outputs": [],
   "source": [
    "def printBill(text):\n",
    "  #text = input()\n",
    "  print(\"======\")\n",
    "  print(text)\n",
    "  print(\"======\")\n",
    "\n",
    "printBill(input())"
   ]
  },
  {
   "cell_type": "markdown",
   "id": "44520fa7",
   "metadata": {},
   "source": [
    "<B> Broken keyboard </B>"
   ]
  },
  {
   "cell_type": "code",
   "execution_count": null,
   "id": "f2f8c736",
   "metadata": {},
   "outputs": [],
   "source": [
    "msg = input()\n",
    "print(msg.replace(\"#\" , \" \"))"
   ]
  },
  {
   "cell_type": "markdown",
   "id": "858f492f",
   "metadata": {},
   "source": [
    "<B> queue managment </B>"
   ]
  },
  {
   "cell_type": "code",
   "execution_count": null,
   "id": "bde744a5",
   "metadata": {},
   "outputs": [],
   "source": [
    "queue = ['John', 'Amy', 'Bob', 'Adam']\n",
    "x = input()\n",
    "queue.append(x)\n",
    "print(queue)"
   ]
  },
  {
   "cell_type": "markdown",
   "id": "d12efe78",
   "metadata": {},
   "source": [
    "<B> Final project: Search engine </B>"
   ]
  },
  {
   "cell_type": "code",
   "execution_count": null,
   "id": "910773ea",
   "metadata": {},
   "outputs": [],
   "source": [
    "text = input()\n",
    "word = input()\n",
    "if word in text:\n",
    "  print(\"Word found\")\n",
    "else:\n",
    "  print(\"Word not found\")"
   ]
  },
  {
   "cell_type": "markdown",
   "id": "f45b9550",
   "metadata": {},
   "source": [
    "<B> List slice , the last character </B>"
   ]
  },
  {
   "cell_type": "code",
   "execution_count": null,
   "id": "014f94bd",
   "metadata": {},
   "outputs": [],
   "source": [
    "a = input()\n",
    "res = a[-1] \n",
    "print(res)\n"
   ]
  },
  {
   "cell_type": "markdown",
   "id": "85ffac06",
   "metadata": {},
   "source": [
    "<B> date picker-range </B>"
   ]
  },
  {
   "cell_type": "code",
   "execution_count": null,
   "id": "54aa8665",
   "metadata": {},
   "outputs": [],
   "source": [
    "a = int(input())\n",
    "b = int(input())\n",
    "x = list(range(a, b,1))\n",
    "print(x)"
   ]
  },
  {
   "cell_type": "markdown",
   "id": "772da2bf",
   "metadata": {},
   "source": [
    "<B> list of numbers - for loop </B>"
   ]
  },
  {
   "cell_type": "code",
   "execution_count": null,
   "id": "ba9ed538",
   "metadata": {},
   "outputs": [],
   "source": [
    "s=0\n",
    "x = [42, 8, 7, 1, 0, 124, 8897, 555, 3, 67, 99]\n",
    "for i in x:\n",
    "  s=s+i\n",
    "  i+=i\n",
    "print(s)"
   ]
  },
  {
   "cell_type": "markdown",
   "id": "19df7dd0",
   "metadata": {},
   "source": [
    "<B> Bingo - lists operations </B>"
   ]
  },
  {
   "cell_type": "code",
   "execution_count": null,
   "id": "2b6686d9",
   "metadata": {},
   "outputs": [],
   "source": [
    "x = [42, 8, 7, 1, 0, 124, 8897, 555, 3, 67, 99]\n",
    "\n",
    "num = int(input())\n",
    "if num in x:\n",
    "    print(\"bingo\")"
   ]
  },
  {
   "cell_type": "markdown",
   "id": "758a8a2c",
   "metadata": {},
   "source": [
    "<B> final project lists - Sum of Consecutive Numbers </B>"
   ]
  },
  {
   "cell_type": "code",
   "execution_count": null,
   "id": "f9fbe0c3",
   "metadata": {},
   "outputs": [],
   "source": [
    "s=0\n",
    "N = int(input())\n",
    "#your code goes here\n",
    "for i in range(0,N+1):\n",
    "    s=s+i\n",
    "    i+=i\n",
    "print(s)"
   ]
  },
  {
   "cell_type": "markdown",
   "id": "53893e2e",
   "metadata": {},
   "source": [
    "<B> BMI calculator - final project control flow </B>"
   ]
  },
  {
   "cell_type": "code",
   "execution_count": null,
   "id": "84547d2c",
   "metadata": {},
   "outputs": [],
   "source": [
    "#your code goes here\n",
    "weight = int(input());\n",
    "height = float(input());\n",
    "x = weight/float(height*height);\n",
    "if x < 18.5:\n",
    "    print('Underweight')\n",
    "if x>=18.5 and x<25:\n",
    "    print(\"Normal\")\n",
    "if x >= 25 and x < 30:\n",
    "   print('Overweight')\n",
    "if x >= 30:\n",
    "   print('Obesity')"
   ]
  },
  {
   "cell_type": "markdown",
   "id": "4e513892",
   "metadata": {},
   "source": [
    "<B> ticket price </B>"
   ]
  },
  {
   "cell_type": "code",
   "execution_count": null,
   "id": "01182bee",
   "metadata": {},
   "outputs": [],
   "source": [
    "total = 0\n",
    "p = 1\n",
    "#your code goes here\n",
    "while p <= 5:\n",
    "    age = input()\n",
    "    if int(age) >= 3:\n",
    "        total +=100\n",
    "        p +=1\n",
    "    if int(age) < 3:\n",
    "        total +=0\n",
    "        p +=1\n",
    "        continue\n",
    "\n",
    "print(total)"
   ]
  },
  {
   "cell_type": "markdown",
   "id": "50dc3a17",
   "metadata": {},
   "source": [
    "<B> call it even </B>"
   ]
  },
  {
   "cell_type": "code",
   "execution_count": null,
   "id": "ad279407",
   "metadata": {},
   "outputs": [],
   "source": [
    "x = 0\n",
    "while x<=10:\n",
    "  print(x)\n",
    "  x+=2"
   ]
  },
  {
   "cell_type": "markdown",
   "id": "90580cfb",
   "metadata": {},
   "source": [
    "<B> /boolean logic - age group</B>"
   ]
  },
  {
   "cell_type": "code",
   "execution_count": null,
   "id": "2734654e",
   "metadata": {},
   "outputs": [],
   "source": [
    "age = int(input())\n",
    "if age>=0 and age <= 11:\n",
    "    print(\"Child\")\n",
    "elif age>=12 and age<= 17:\n",
    "    print(\"Teen\")\n",
    "elif age>=18 and age<=64:\n",
    "    print(\"Adult\")"
   ]
  },
  {
   "cell_type": "markdown",
   "id": "11802a43",
   "metadata": {},
   "source": [
    "<B> face control </B>"
   ]
  },
  {
   "cell_type": "code",
   "execution_count": null,
   "id": "bd88afc8",
   "metadata": {},
   "outputs": [],
   "source": [
    "age = int(input())\n",
    "if age>=18:\n",
    "    print(\"Allowed\")\n",
    "else:\n",
    "    print(\"Sorry\")"
   ]
  },
  {
   "cell_type": "markdown",
   "id": "78f990ac",
   "metadata": {},
   "source": [
    "<B> tip calculator - final project variables </B>"
   ]
  },
  {
   "cell_type": "code",
   "execution_count": null,
   "id": "cb6f01b7",
   "metadata": {},
   "outputs": [],
   "source": [
    "bill = int(input())\n",
    "#your code goes here\n",
    "print( (bill * 20) / 100 )"
   ]
  },
  {
   "cell_type": "code",
   "execution_count": null,
   "id": "3b583510",
   "metadata": {},
   "outputs": [],
   "source": []
  },
  {
   "cell_type": "code",
   "execution_count": null,
   "id": "993f15d8",
   "metadata": {},
   "outputs": [],
   "source": []
  },
  {
   "cell_type": "code",
   "execution_count": null,
   "id": "71d32c21",
   "metadata": {},
   "outputs": [],
   "source": []
  }
 ],
 "metadata": {
  "kernelspec": {
   "display_name": "Python 3",
   "language": "python",
   "name": "python3"
  },
  "language_info": {
   "codemirror_mode": {
    "name": "ipython",
    "version": 3
   },
   "file_extension": ".py",
   "mimetype": "text/x-python",
   "name": "python",
   "nbconvert_exporter": "python",
   "pygments_lexer": "ipython3",
   "version": "3.9.5"
  }
 },
 "nbformat": 4,
 "nbformat_minor": 5
}
